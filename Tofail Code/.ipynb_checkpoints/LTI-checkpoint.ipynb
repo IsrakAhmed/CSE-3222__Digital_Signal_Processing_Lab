{
 "cells": [
  {
   "cell_type": "code",
   "execution_count": null,
   "id": "580fb909-f921-472b-a9e0-dd29c5ebed1d",
   "metadata": {},
   "outputs": [],
   "source": [
    "import numpy as np\n",
    "import matplotlib.pyplot as plt\n",
    "\n",
    "def lti_system_analysis(b, a):\n",
    "    \"\"\"\n",
    "    Analyzes an LTI system given its difference equation coefficients.\n",
    "\n",
    "    Args:\n",
    "        b: Coefficients of the numerator polynomial.\n",
    "        a: Coefficients of the denominator polynomial.\n",
    "\n",
    "    Returns:\n",
    "        A tuple containing:\n",
    "            - The system function H(z) (as a symbolic expression).\n",
    "            - The impulse response h[n].\n",
    "    \"\"\"\n",
    "\n",
    "    # System function H(z)\n",
    "    z = sympy.Symbol('z')\n",
    "    H_z = sympy.Poly(b, z) / sympy.Poly(a, z)\n",
    "\n",
    "    # Impulse response h[n]\n",
    "    h = signal.lfilter(b, a, np.array([1] + [0] * 100))\n",
    "\n",
    "    return H_z, h\n",
    "\n",
    "# Example usage:\n",
    "b = [1, 1/3]  # Numerator coefficients\n",
    "a = [1, -3/4, 1/8]  # Denominator coefficients\n",
    "\n",
    "H_z, h = lti_system_analysis(b, a)\n",
    "\n",
    "# Print the system function H(z)\n",
    "print(\"System function H(z):\")\n",
    "print(H_z)\n",
    "\n",
    "# Plot the impulse response h[n]\n",
    "plt.stem(h)\n",
    "plt.xlabel('n')\n",
    "plt.ylabel('h[n]')\n",
    "plt.title('Impulse Response')\n",
    "plt.grid(True)\n",
    "plt.show()"
   ]
  }
 ],
 "metadata": {
  "kernelspec": {
   "display_name": "Python 3 (ipykernel)",
   "language": "python",
   "name": "python3"
  },
  "language_info": {
   "codemirror_mode": {
    "name": "ipython",
    "version": 3
   },
   "file_extension": ".py",
   "mimetype": "text/x-python",
   "name": "python",
   "nbconvert_exporter": "python",
   "pygments_lexer": "ipython3",
   "version": "3.13.0"
  }
 },
 "nbformat": 4,
 "nbformat_minor": 5
}
