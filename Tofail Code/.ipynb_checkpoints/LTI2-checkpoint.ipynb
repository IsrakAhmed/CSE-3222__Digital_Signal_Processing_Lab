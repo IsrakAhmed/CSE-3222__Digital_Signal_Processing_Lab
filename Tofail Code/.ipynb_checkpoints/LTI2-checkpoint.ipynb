{
 "cells": [
  {
   "cell_type": "code",
   "execution_count": null,
   "id": "8e125d21-654e-4a59-b58b-95356d50766f",
   "metadata": {},
   "outputs": [],
   "source": [
    "import sympy as sp\n",
    "\n",
    "def lti_system_analysis(b, a):\n",
    "    \"\"\"\n",
    "    Analyzes an LTI system given its difference equation coefficients.\n",
    "    \n",
    "    Parameters:\n",
    "        b (list): Numerator coefficients (b[0] + b[1]*z^(-1) + ...).\n",
    "        a (list): Denominator coefficients (a[0] + a[1]*z^(-1) + ...).\n",
    "    \n",
    "    Returns:\n",
    "        H_z: The system function H(z).\n",
    "        h: The impulse response h[n].\n",
    "    \"\"\"\n",
    "    # Step 1: Define the z variable\n",
    "    z = sp.Symbol('z')\n",
    "    \n",
    "    # Step 2: Calculate the system function H(z) = B(z) / A(z)\n",
    "    B_z = sp.Poly(b, z).as_expr()\n",
    "    A_z = sp.Poly(a, z).as_expr()\n",
    "    H_z = B_z / A_z\n",
    "    \n",
    "    # Step 3: Use residues method\n",
    "    n = sp.Symbol('n', integer=True)\n",
    "    h = sp.apart(H_z)  # Will give partial fractions\n",
    "    \n",
    "    # Using inverse z transform:\n",
    "    h_sequence = sp.inverse_z_transform(H_z, z, n)\n",
    "    \n",
    "    return H_z, h_sequence\n",
    "\n",
    "# Given coefficients for the difference equation\n",
    "b = [1, 1/3]  # Numerator coefficients\n",
    "a = [1, -3/4, 1/8]  # Denominator coefficients\n",
    "\n",
    "# Analyze the system\n",
    "H_z, h = lti_system_analysis(b, a)\n",
    "\n",
    "# Print the system function H(z)\n",
    "print(\"System function H(z):\", H_z)\n",
    "\n",
    "# Print the impulse response h[n]\n",
    "print(\"Impulse response h[n]:\", h)\n"
   ]
  }
 ],
 "metadata": {
  "kernelspec": {
   "display_name": "Python 3 (ipykernel)",
   "language": "python",
   "name": "python3"
  },
  "language_info": {
   "codemirror_mode": {
    "name": "ipython",
    "version": 3
   },
   "file_extension": ".py",
   "mimetype": "text/x-python",
   "name": "python",
   "nbconvert_exporter": "python",
   "pygments_lexer": "ipython3",
   "version": "3.13.0"
  }
 },
 "nbformat": 4,
 "nbformat_minor": 5
}
