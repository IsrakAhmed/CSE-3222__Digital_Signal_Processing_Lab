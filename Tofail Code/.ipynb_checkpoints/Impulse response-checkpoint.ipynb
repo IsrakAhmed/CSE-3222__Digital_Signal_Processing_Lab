{
 "cells": [
  {
   "cell_type": "code",
   "execution_count": 1,
   "id": "cb145fd2-1b0a-4775-922c-d701987e2061",
   "metadata": {},
   "outputs": [
    {
     "name": "stdout",
     "output_type": "stream",
     "text": [
      "System Function H(z):\n",
      "z⋅(z + 0.333333333333333)\n",
      "─────────────────────────\n",
      "    2                    \n",
      "   z  - 0.75⋅z + 0.125   \n",
      "\n",
      "Impulse Response h[n]:\n",
      "h[0] = 1\n",
      "h[1] = 0.75\n",
      "h[2] = 0.4375\n",
      "h[3] = 0.234375\n",
      "h[4] = 0.12109375\n",
      "h[5] = 0.0615234375\n",
      "h[6] = 0.031005859375\n",
      "h[7] = 0.01556396484375\n",
      "h[8] = 0.0077972412109375\n",
      "h[9] = 0.003902435302734375\n"
     ]
    },
    {
     "ename": "TypeError",
     "evalue": "stem() got an unexpected keyword argument 'use_line_collection'",
     "output_type": "error",
     "traceback": [
      "\u001b[1;31m---------------------------------------------------------------------------\u001b[0m",
      "\u001b[1;31mTypeError\u001b[0m                                 Traceback (most recent call last)",
      "Cell \u001b[1;32mIn[1], line 46\u001b[0m\n\u001b[0;32m     44\u001b[0m \u001b[38;5;66;03m# Plotting the Impulse Response\u001b[39;00m\n\u001b[0;32m     45\u001b[0m plt\u001b[38;5;241m.\u001b[39mfigure(figsize\u001b[38;5;241m=\u001b[39m(\u001b[38;5;241m8\u001b[39m, \u001b[38;5;241m4\u001b[39m))\n\u001b[1;32m---> 46\u001b[0m \u001b[43mplt\u001b[49m\u001b[38;5;241;43m.\u001b[39;49m\u001b[43mstem\u001b[49m\u001b[43m(\u001b[49m\u001b[38;5;28;43mrange\u001b[39;49m\u001b[43m(\u001b[49m\u001b[43mnum_samples\u001b[49m\u001b[43m)\u001b[49m\u001b[43m,\u001b[49m\u001b[43m \u001b[49m\u001b[43mh\u001b[49m\u001b[43m,\u001b[49m\u001b[43m \u001b[49m\u001b[43muse_line_collection\u001b[49m\u001b[38;5;241;43m=\u001b[39;49m\u001b[38;5;28;43;01mTrue\u001b[39;49;00m\u001b[43m)\u001b[49m\n\u001b[0;32m     47\u001b[0m plt\u001b[38;5;241m.\u001b[39mtitle(\u001b[38;5;124m'\u001b[39m\u001b[38;5;124mImpulse Response h[n]\u001b[39m\u001b[38;5;124m'\u001b[39m)\n\u001b[0;32m     48\u001b[0m plt\u001b[38;5;241m.\u001b[39mxlabel(\u001b[38;5;124m'\u001b[39m\u001b[38;5;124mn\u001b[39m\u001b[38;5;124m'\u001b[39m)\n",
      "\u001b[1;31mTypeError\u001b[0m: stem() got an unexpected keyword argument 'use_line_collection'"
     ]
    },
    {
     "data": {
      "text/plain": [
       "<Figure size 800x400 with 0 Axes>"
      ]
     },
     "metadata": {},
     "output_type": "display_data"
    }
   ],
   "source": [
    "import sympy as sp\n",
    "import numpy as np\n",
    "import matplotlib.pyplot as plt\n",
    "\n",
    "def system_function():\n",
    "    # Define z as a symbol\n",
    "    z = sp.Symbol('z')\n",
    "\n",
    "    # Numerator and Denominator of H(z)\n",
    "    numerator = 1 + (1/3) * z**-1\n",
    "    denominator = 1 - (3/4) * z**-1 + (1/8) * z**-2\n",
    "\n",
    "    # System function H(z)\n",
    "    H_z = numerator / denominator\n",
    "    return sp.simplify(H_z)\n",
    "\n",
    "def impulse_response(num_samples=10):\n",
    "    # Initialize the impulse response\n",
    "    h = [1]  # h[0] = 1\n",
    "    \n",
    "    # Calculate h[n] using the difference equation\n",
    "    for n in range(1, num_samples):\n",
    "        if n == 1:\n",
    "            # Special case for h[1] since h[n-2] is not defined\n",
    "            h.append((3/4) * h[n-1])\n",
    "        else:\n",
    "            h.append((3/4) * h[n-1] - (1/8) * h[n-2])\n",
    "    \n",
    "    return h\n",
    "\n",
    "# Part 1: System Function H(z)\n",
    "H_z = system_function()\n",
    "print(\"System Function H(z):\")\n",
    "sp.pprint(H_z)\n",
    "\n",
    "# Part 2: Impulse Response h[n]\n",
    "num_samples = 10\n",
    "h = impulse_response(num_samples)\n",
    "\n",
    "print(\"\\nImpulse Response h[n]:\")\n",
    "for i in range(num_samples):\n",
    "    print(f\"h[{i}] = {h[i]}\")\n",
    "\n",
    "# Plotting the Impulse Response\n",
    "plt.figure((figsize=(8, 4))\n",
    "plt.stem(range(num_samples), h, use_line_collection=True)\n",
    "plt.title('Impulse Response h[n]')\n",
    "plt.xlabel('n')\n",
    "plt.ylabel('h[n]')\n",
    "plt.grid(True)\n",
    "plt.show()\n"
   ]
  }
 ],
 "metadata": {
  "kernelspec": {
   "display_name": "Python 3 (ipykernel)",
   "language": "python",
   "name": "python3"
  },
  "language_info": {
   "codemirror_mode": {
    "name": "ipython",
    "version": 3
   },
   "file_extension": ".py",
   "mimetype": "text/x-python",
   "name": "python",
   "nbconvert_exporter": "python",
   "pygments_lexer": "ipython3",
   "version": "3.11.5"
  }
 },
 "nbformat": 4,
 "nbformat_minor": 5
}
