{
 "cells": [
  {
   "cell_type": "code",
   "execution_count": null,
   "id": "815ea5ba-c7bd-4c8d-a763-b3de33faafcb",
   "metadata": {},
   "outputs": [],
   "source": [
    "import sympy as sp\n",
    "import numpy as np\n",
    "import matplotlib.pyplot as plt\n",
    "\n",
    "# Step 1: Define the z-transform variable\n",
    "z = sp.symbols('z')\n",
    "n = sp.symbols('n', integer=True)\n",
    "\n",
    "# Step 2: Define Y(z) and X(z) as symbolic variables\n",
    "Y = sp.Function('Y')(z)\n",
    "X = sp.Function('X')(z)\n",
    "\n",
    "# Step 3: Define the coefficients from the difference equation\n",
    "a1 = 3/4\n",
    "a2 = -1/8\n",
    "b0 = 1\n",
    "b1 = 1/3\n",
    "\n",
    "# Step 4: Express the difference equation in the z-domain\n",
    "Y_z = Y - a1 * z**(-1) * Y - a2 * z**(-2) * Y\n",
    "X_z = b0 * X + b1 * z**(-1) * X\n",
    "\n",
    "# Rearrange to solve for H(z) = Y(z)/X(z)\n",
    "H_z = (X_z / Y_z).simplify()\n",
    "H_z = sp.simplify(H_z)\n",
    "print(\"System function H(z):\", H_z)\n",
    "\n",
    "# Step 5: Find the impulse response h[n] using the inverse z-transform\n",
    "h_n = sp.inverse_z_transform(H_z, z, n)\n",
    "print(\"Impulse response h[n]:\", h_n)\n",
    "\n",
    "# Step 6: Generate and plot impulse response h[n] for n = 0 to 20\n",
    "n_vals = np.arange(0, 21)\n",
    "h_vals = np.array([h_n.subs(n, i).evalf() for i in n_vals], dtype=float)\n",
    "\n",
    "# Plotting the impulse response\n",
    "plt.stem(n_vals, h_vals, use_line_collection=True)\n",
    "plt.xlabel('n')\n",
    "plt.ylabel('h[n]')\n",
    "plt.title('Impulse Response of the LTI System')\n",
    "plt.grid(True)\n",
    "plt.show()\n"
   ]
  }
 ],
 "metadata": {
  "kernelspec": {
   "display_name": "Python 3 (ipykernel)",
   "language": "python",
   "name": "python3"
  },
  "language_info": {
   "codemirror_mode": {
    "name": "ipython",
    "version": 3
   },
   "file_extension": ".py",
   "mimetype": "text/x-python",
   "name": "python",
   "nbconvert_exporter": "python",
   "pygments_lexer": "ipython3",
   "version": "3.13.0"
  }
 },
 "nbformat": 4,
 "nbformat_minor": 5
}
