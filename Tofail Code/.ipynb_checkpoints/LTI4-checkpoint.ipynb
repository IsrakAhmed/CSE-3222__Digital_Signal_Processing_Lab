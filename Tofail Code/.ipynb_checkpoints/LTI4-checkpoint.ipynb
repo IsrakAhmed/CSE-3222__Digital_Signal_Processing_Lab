{
 "cells": [
  {
   "cell_type": "code",
   "execution_count": null,
   "id": "cb145fd2-1b0a-4775-922c-d701987e2061",
   "metadata": {},
   "outputs": [],
   "source": [
    "import sympy as sp\n",
    "import numpy as np\n",
    "import matplotlib.pyplot as plt\n",
    "\n",
    "def system_function():\n",
    "    # Define z as a symbol\n",
    "    z = sp.Symbol('z')\n",
    "\n",
    "    # Numerator and Denominator of H(z)\n",
    "    numerator = 1 + (1/3) * z**-1\n",
    "    denominator = 1 - (3/4) * z**-1 + (1/8) * z**-2\n",
    "\n",
    "    # System function H(z)\n",
    "    H_z = numerator / denominator\n",
    "    return sp.simplify(H_z)\n",
    "\n",
    "def impulse_response(num_samples=10):\n",
    "    # Initialize the impulse response\n",
    "    h = [1]  # h[0] = 1\n",
    "    \n",
    "    # Calculate h[n] using the difference equation\n",
    "    for n in range(1, num_samples):\n",
    "        if n == 1:\n",
    "            # Special case for h[1] since h[n-2] is not defined\n",
    "            h.append((3/4) * h[n-1])\n",
    "        else:\n",
    "            h.append((3/4) * h[n-1] - (1/8) * h[n-2])\n",
    "    \n",
    "    return h\n",
    "\n",
    "# Part 1: System Function H(z)\n",
    "H_z = system_function()\n",
    "print(\"System Function H(z):\")\n",
    "sp.pprint(H_z)\n",
    "\n",
    "# Part 2: Impulse Response h[n]\n",
    "num_samples = 10\n",
    "h = impulse_response(num_samples)\n",
    "\n",
    "print(\"\\nImpulse Response h[n]:\")\n",
    "for i in range(num_samples):\n",
    "    print(f\"h[{i}] = {h[i]}\")\n",
    "\n",
    "# Plotting the Impulse Response\n",
    "plt.figure(figsize=(8, 4))\n",
    "plt.stem(range(num_samples), h, use_line_collection=True)\n",
    "plt.title('Impulse Response h[n]')\n",
    "plt.xlabel('n')\n",
    "plt.ylabel('h[n]')\n",
    "plt.grid(True)\n",
    "plt.show()\n"
   ]
  }
 ],
 "metadata": {
  "kernelspec": {
   "display_name": "Python 3 (ipykernel)",
   "language": "python",
   "name": "python3"
  },
  "language_info": {
   "codemirror_mode": {
    "name": "ipython",
    "version": 3
   },
   "file_extension": ".py",
   "mimetype": "text/x-python",
   "name": "python",
   "nbconvert_exporter": "python",
   "pygments_lexer": "ipython3",
   "version": "3.13.0"
  }
 },
 "nbformat": 4,
 "nbformat_minor": 5
}
