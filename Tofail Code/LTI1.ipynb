{
 "cells": [
  {
   "cell_type": "code",
   "execution_count": 1,
   "id": "815ea5ba-c7bd-4c8d-a763-b3de33faafcb",
   "metadata": {},
   "outputs": [
    {
     "name": "stdout",
     "output_type": "stream",
     "text": [
      "System function H(z): z*(z + 0.333333333333333)*X(z)/((z**2 - 0.75*z + 0.125)*Y(z))\n"
     ]
    },
    {
     "ename": "AttributeError",
     "evalue": "module 'sympy' has no attribute 'inverse_z_transform'",
     "output_type": "error",
     "traceback": [
      "\u001b[1;31m---------------------------------------------------------------------------\u001b[0m",
      "\u001b[1;31mAttributeError\u001b[0m                            Traceback (most recent call last)",
      "Cell \u001b[1;32mIn[1], line 29\u001b[0m\n\u001b[0;32m     26\u001b[0m \u001b[38;5;28mprint\u001b[39m(\u001b[38;5;124m\"\u001b[39m\u001b[38;5;124mSystem function H(z):\u001b[39m\u001b[38;5;124m\"\u001b[39m, H_z)\n\u001b[0;32m     28\u001b[0m \u001b[38;5;66;03m# Step 5: Find the impulse response h[n] using the inverse z-transform\u001b[39;00m\n\u001b[1;32m---> 29\u001b[0m h_n \u001b[38;5;241m=\u001b[39m \u001b[43msp\u001b[49m\u001b[38;5;241;43m.\u001b[39;49m\u001b[43minverse_z_transform\u001b[49m(H_z, z, n)\n\u001b[0;32m     30\u001b[0m \u001b[38;5;28mprint\u001b[39m(\u001b[38;5;124m\"\u001b[39m\u001b[38;5;124mImpulse response h[n]:\u001b[39m\u001b[38;5;124m\"\u001b[39m, h_n)\n\u001b[0;32m     32\u001b[0m \u001b[38;5;66;03m# Step 6: Generate and plot impulse response h[n] for n = 0 to 20\u001b[39;00m\n",
      "\u001b[1;31mAttributeError\u001b[0m: module 'sympy' has no attribute 'inverse_z_transform'"
     ]
    }
   ],
   "source": [
    "import sympy as sp\n",
    "import numpy as np\n",
    "import matplotlib.pyplot as plt\n",
    "\n",
    "# Step 1: Define the z-transform variable\n",
    "z = sp.symbols('z')\n",
    "n = sp.symbols('n', integer=True)\n",
    "\n",
    "# Step 2: Define Y(z) and X(z) as symbolic variables\n",
    "Y = sp.Function('Y')(z)\n",
    "X = sp.Function('X')(z)\n",
    "\n",
    "# Step 3: Define the coefficients from the difference equation\n",
    "a1 = 3/4\n",
    "a2 = -1/8\n",
    "b0 = 1\n",
    "b1 = 1/3\n",
    "\n",
    "# Step 4: Express the difference equation in the z-domain\n",
    "Y_z = Y - a1 * z**(-1) * Y - a2 * z**(-2) * Y\n",
    "X_z = b0 * X + b1 * z**(-1) * X\n",
    "\n",
    "# Rearrange to solve for H(z) = Y(z)/X(z)\n",
    "H_z = (X_z / Y_z).simplify()\n",
    "H_z = sp.simplify(H_z)\n",
    "print(\"System function H(z):\", H_z)\n",
    "\n",
    "# Step 5: Find the impulse response h[n] using the inverse z-transform\n",
    "h_n = sp.inverse_z_transform(H_z, z, n)\n",
    "print(\"Impulse response h[n]:\", h_n)\n",
    "\n",
    "# Step 6: Generate and plot impulse response h[n] for n = 0 to 20\n",
    "n_vals = np.arange(0, 21)\n",
    "h_vals = np.array([h_n.subs(n, i).evalf() for i in n_vals], dtype=float)\n",
    "\n",
    "# Plotting the impulse response\n",
    "plt.stem(n_vals, h_vals, use_line_collection=True)\n",
    "plt.xlabel('n')\n",
    "plt.ylabel('h[n]')\n",
    "plt.title('Impulse Response of the LTI System')\n",
    "plt.grid(True)\n",
    "plt.show()\n"
   ]
  },
  {
   "cell_type": "code",
   "execution_count": 1,
   "id": "1d2998e6-a8ec-4e32-b9af-3957336039a0",
   "metadata": {},
   "outputs": [
    {
     "name": "stdout",
     "output_type": "stream",
     "text": [
      "1.13.3\n"
     ]
    }
   ],
   "source": [
    "import sympy\n",
    "print(sympy.__version__)\n",
    "\n"
   ]
  },
  {
   "cell_type": "code",
   "execution_count": null,
   "id": "e91c5cf3-63b6-419b-ab52-a03b4f979b41",
   "metadata": {},
   "outputs": [],
   "source": []
  }
 ],
 "metadata": {
  "kernelspec": {
   "display_name": "Python 3 (ipykernel)",
   "language": "python",
   "name": "python3"
  },
  "language_info": {
   "codemirror_mode": {
    "name": "ipython",
    "version": 3
   },
   "file_extension": ".py",
   "mimetype": "text/x-python",
   "name": "python",
   "nbconvert_exporter": "python",
   "pygments_lexer": "ipython3",
   "version": "3.11.5"
  }
 },
 "nbformat": 4,
 "nbformat_minor": 5
}
