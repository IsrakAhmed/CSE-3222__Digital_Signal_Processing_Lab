{
 "cells": [
  {
   "cell_type": "code",
   "execution_count": 6,
   "id": "8e125d21-654e-4a59-b58b-95356d50766f",
   "metadata": {},
   "outputs": [
    {
     "name": "stdout",
     "output_type": "stream",
     "text": [
      "System function (Transfer Function):\n",
      "TransferFunctionDiscrete(\n",
      "array([1.        , 0.33333333]),\n",
      "array([ 1.   , -0.75 ,  0.125]),\n",
      "dt: True\n",
      ")\n",
      "\n",
      "Impulse response h[n]: [0.00000000e+00 1.00000000e+00 1.08333333e+00 6.87500000e-01\n",
      " 3.80208333e-01 1.99218750e-01 1.01888021e-01 5.15136719e-02\n",
      " 2.58992513e-02 1.29852295e-02 6.50151571e-03 3.25298309e-03\n",
      " 1.62704786e-03 8.13663006e-04 4.06866272e-04 2.03441828e-04\n",
      " 1.01723087e-04 5.08620869e-05 2.54311793e-05 1.27156236e-05]\n"
     ]
    },
    {
     "ename": "TypeError",
     "evalue": "stem() got an unexpected keyword argument 'use_line_collection'",
     "output_type": "error",
     "traceback": [
      "\u001b[1;31m---------------------------------------------------------------------------\u001b[0m",
      "\u001b[1;31mTypeError\u001b[0m                                 Traceback (most recent call last)",
      "Cell \u001b[1;32mIn[6], line 40\u001b[0m\n\u001b[0;32m     37\u001b[0m \u001b[38;5;28mprint\u001b[39m(\u001b[38;5;124m\"\u001b[39m\u001b[38;5;130;01m\\n\u001b[39;00m\u001b[38;5;124mImpulse response h[n]:\u001b[39m\u001b[38;5;124m\"\u001b[39m, h)\n\u001b[0;32m     39\u001b[0m \u001b[38;5;66;03m# Plot the impulse response\u001b[39;00m\n\u001b[1;32m---> 40\u001b[0m \u001b[43mplt\u001b[49m\u001b[38;5;241;43m.\u001b[39;49m\u001b[43mstem\u001b[49m\u001b[43m(\u001b[49m\u001b[43mn\u001b[49m\u001b[43m,\u001b[49m\u001b[43m \u001b[49m\u001b[43mh\u001b[49m\u001b[43m,\u001b[49m\u001b[43m \u001b[49m\u001b[43muse_line_collection\u001b[49m\u001b[38;5;241;43m=\u001b[39;49m\u001b[38;5;28;43;01mTrue\u001b[39;49;00m\u001b[43m)\u001b[49m\n\u001b[0;32m     41\u001b[0m plt\u001b[38;5;241m.\u001b[39mxlabel(\u001b[38;5;124m'\u001b[39m\u001b[38;5;124mn\u001b[39m\u001b[38;5;124m'\u001b[39m)\n\u001b[0;32m     42\u001b[0m plt\u001b[38;5;241m.\u001b[39mylabel(\u001b[38;5;124m'\u001b[39m\u001b[38;5;124mh[n]\u001b[39m\u001b[38;5;124m'\u001b[39m)\n",
      "\u001b[1;31mTypeError\u001b[0m: stem() got an unexpected keyword argument 'use_line_collection'"
     ]
    }
   ],
   "source": [
    "import numpy as np\n",
    "from scipy import signal\n",
    "import matplotlib.pyplot as plt\n",
    "\n",
    "def lti_system_analysis(b, a):\n",
    "    \"\"\"\n",
    "    Analyzes an LTI system given its difference equation coefficients.\n",
    "    \n",
    "    Parameters:\n",
    "        b (list): Numerator coefficients (b[0] + b[1]*z^(-1) + ...).\n",
    "        a (list): Denominator coefficients (a[0] + a[1]*z^(-1) + ...).\n",
    "    \n",
    "    Returns:\n",
    "        H_z: The system function H(z).\n",
    "        h: The impulse response h[n].\n",
    "    \"\"\"\n",
    "    # Step 1: Calculate the system function H(z) using the transfer function representation\n",
    "    system = signal.dlti(b, a)\n",
    "    \n",
    "    # Step 2: Find the impulse response of the system\n",
    "    t, h = signal.dimpulse(system, n=20)\n",
    "    \n",
    "    return system, t, np.squeeze(h)\n",
    "\n",
    "# Given coefficients for the difference equation\n",
    "b = [1, 1/3]  # Numerator coefficients\n",
    "a = [1, -3/4, 1/8]  # Denominator coefficients\n",
    "\n",
    "# Analyze the system\n",
    "system, n, h = lti_system_analysis(b, a)\n",
    "\n",
    "# Print the system function H(z)\n",
    "print(\"System function (Transfer Function):\")\n",
    "print(system)\n",
    "\n",
    "# Print the impulse response h[n]\n",
    "print(\"\\nImpulse response h[n]:\", h)\n",
    "\n",
    "# Plot the impulse response\n",
    "plt.stem(n, h, use_line_collection=True)\n",
    "plt.xlabel('n')\n",
    "plt.ylabel('h[n]')\n",
    "plt.title('Impulse Response of the LTI System')\n",
    "plt.grid(True)\n",
    "plt.show()\n",
    "\n",
    "\n"
   ]
  },
  {
   "cell_type": "code",
   "execution_count": null,
   "id": "28a35dab-b97a-4e50-b9bc-3b17bb3a67e3",
   "metadata": {},
   "outputs": [],
   "source": [
    "import sympy\n",
    "print(sympy.__version__)\n",
    "\n"
   ]
  }
 ],
 "metadata": {
  "kernelspec": {
   "display_name": "Python 3 (ipykernel)",
   "language": "python",
   "name": "python3"
  },
  "language_info": {
   "codemirror_mode": {
    "name": "ipython",
    "version": 3
   },
   "file_extension": ".py",
   "mimetype": "text/x-python",
   "name": "python",
   "nbconvert_exporter": "python",
   "pygments_lexer": "ipython3",
   "version": "3.13.0"
  }
 },
 "nbformat": 4,
 "nbformat_minor": 5
}
