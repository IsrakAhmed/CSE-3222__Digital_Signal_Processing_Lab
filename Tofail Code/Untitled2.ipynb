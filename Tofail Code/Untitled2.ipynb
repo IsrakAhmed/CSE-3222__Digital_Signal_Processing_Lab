{
 "cells": [
  {
   "cell_type": "code",
   "execution_count": 1,
   "id": "8e125d21-654e-4a59-b58b-95356d50766f",
   "metadata": {},
   "outputs": [
    {
     "ename": "AttributeError",
     "evalue": "module 'sympy' has no attribute 'inverse_z_transform'",
     "output_type": "error",
     "traceback": [
      "\u001b[1;31m---------------------------------------------------------------------------\u001b[0m",
      "\u001b[1;31mAttributeError\u001b[0m                            Traceback (most recent call last)",
      "Cell \u001b[1;32mIn[1], line 37\u001b[0m\n\u001b[0;32m     34\u001b[0m a \u001b[38;5;241m=\u001b[39m [\u001b[38;5;241m1\u001b[39m, \u001b[38;5;241m-\u001b[39m\u001b[38;5;241m3\u001b[39m\u001b[38;5;241m/\u001b[39m\u001b[38;5;241m4\u001b[39m, \u001b[38;5;241m1\u001b[39m\u001b[38;5;241m/\u001b[39m\u001b[38;5;241m8\u001b[39m]  \u001b[38;5;66;03m# Denominator coefficients\u001b[39;00m\n\u001b[0;32m     36\u001b[0m \u001b[38;5;66;03m# Analyze the system\u001b[39;00m\n\u001b[1;32m---> 37\u001b[0m H_z, h \u001b[38;5;241m=\u001b[39m \u001b[43mlti_system_analysis\u001b[49m\u001b[43m(\u001b[49m\u001b[43mb\u001b[49m\u001b[43m,\u001b[49m\u001b[43m \u001b[49m\u001b[43ma\u001b[49m\u001b[43m)\u001b[49m\n\u001b[0;32m     39\u001b[0m \u001b[38;5;66;03m# Print the system function H(z)\u001b[39;00m\n\u001b[0;32m     40\u001b[0m \u001b[38;5;28mprint\u001b[39m(\u001b[38;5;124m\"\u001b[39m\u001b[38;5;124mSystem function H(z):\u001b[39m\u001b[38;5;124m\"\u001b[39m, H_z)\n",
      "Cell \u001b[1;32mIn[1], line 28\u001b[0m, in \u001b[0;36mlti_system_analysis\u001b[1;34m(b, a)\u001b[0m\n\u001b[0;32m     25\u001b[0m h \u001b[38;5;241m=\u001b[39m sp\u001b[38;5;241m.\u001b[39mapart(H_z)  \u001b[38;5;66;03m# Will give partial fractions\u001b[39;00m\n\u001b[0;32m     27\u001b[0m \u001b[38;5;66;03m# Using inverse z transform:\u001b[39;00m\n\u001b[1;32m---> 28\u001b[0m h_sequence \u001b[38;5;241m=\u001b[39m \u001b[43msp\u001b[49m\u001b[38;5;241;43m.\u001b[39;49m\u001b[43minverse_z_transform\u001b[49m(H_z, z, n)\n\u001b[0;32m     30\u001b[0m \u001b[38;5;28;01mreturn\u001b[39;00m H_z, h_sequence\n",
      "\u001b[1;31mAttributeError\u001b[0m: module 'sympy' has no attribute 'inverse_z_transform'"
     ]
    }
   ],
   "source": [
    "import sympy as sp\n",
    "\n",
    "def lti_system_analysis(b, a):\n",
    "    \"\"\"\n",
    "    Analyzes an LTI system given its difference equation coefficients.\n",
    "    \n",
    "    Parameters:\n",
    "        b (list): Numerator coefficients (b[0] + b[1]*z^(-1) + ...).\n",
    "        a (list): Denominator coefficients (a[0] + a[1]*z^(-1) + ...).\n",
    "    \n",
    "    Returns:\n",
    "        H_z: The system function H(z).\n",
    "        h: The impulse response h[n].\n",
    "    \"\"\"\n",
    "    # Step 1: Define the z variable\n",
    "    z = sp.Symbol('z')\n",
    "    \n",
    "    # Step 2: Calculate the system function H(z) = B(z) / A(z)\n",
    "    B_z = sp.Poly(b, z).as_expr()\n",
    "    A_z = sp.Poly(a, z).as_expr()\n",
    "    H_z = B_z / A_z\n",
    "    \n",
    "    # Step 3: Use residues method\n",
    "    n = sp.Symbol('n', integer=True)\n",
    "    h = sp.apart(H_z)  # Will give partial fractions\n",
    "    \n",
    "    # Using inverse z transform:\n",
    "    h_sequence = sp.inverse_z_transform(H_z, z, n)\n",
    "    \n",
    "    return H_z, h_sequence\n",
    "\n",
    "# Given coefficients for the difference equation\n",
    "b = [1, 1/3]  # Numerator coefficients\n",
    "a = [1, -3/4, 1/8]  # Denominator coefficients\n",
    "\n",
    "# Analyze the system\n",
    "H_z, h = lti_system_analysis(b, a)\n",
    "\n",
    "# Print the system function H(z)\n",
    "print(\"System function H(z):\", H_z)\n",
    "\n",
    "# Print the impulse response h[n]\n",
    "print(\"Impulse response h[n]:\", h)\n"
   ]
  }
 ],
 "metadata": {
  "kernelspec": {
   "display_name": "Python 3 (ipykernel)",
   "language": "python",
   "name": "python3"
  },
  "language_info": {
   "codemirror_mode": {
    "name": "ipython",
    "version": 3
   },
   "file_extension": ".py",
   "mimetype": "text/x-python",
   "name": "python",
   "nbconvert_exporter": "python",
   "pygments_lexer": "ipython3",
   "version": "3.11.5"
  }
 },
 "nbformat": 4,
 "nbformat_minor": 5
}
