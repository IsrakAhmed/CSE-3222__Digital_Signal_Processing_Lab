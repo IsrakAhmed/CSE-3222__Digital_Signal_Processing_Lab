{
 "cells": [
  {
   "cell_type": "code",
   "execution_count": 4,
   "id": "580fb909-f921-472b-a9e0-dd29c5ebed1d",
   "metadata": {},
   "outputs": [
    {
     "ename": "NameError",
     "evalue": "name 'signal' is not defined",
     "output_type": "error",
     "traceback": [
      "\u001b[1;31m---------------------------------------------------------------------------\u001b[0m",
      "\u001b[1;31mNameError\u001b[0m                                 Traceback (most recent call last)",
      "Cell \u001b[1;32mIn[4], line 32\u001b[0m\n\u001b[0;32m     29\u001b[0m b \u001b[38;5;241m=\u001b[39m [\u001b[38;5;241m1\u001b[39m, \u001b[38;5;241m1\u001b[39m\u001b[38;5;241m/\u001b[39m\u001b[38;5;241m3\u001b[39m]  \u001b[38;5;66;03m# Numerator coefficients\u001b[39;00m\n\u001b[0;32m     30\u001b[0m a \u001b[38;5;241m=\u001b[39m [\u001b[38;5;241m1\u001b[39m, \u001b[38;5;241m-\u001b[39m\u001b[38;5;241m3\u001b[39m\u001b[38;5;241m/\u001b[39m\u001b[38;5;241m4\u001b[39m, \u001b[38;5;241m1\u001b[39m\u001b[38;5;241m/\u001b[39m\u001b[38;5;241m8\u001b[39m]  \u001b[38;5;66;03m# Denominator coefficients\u001b[39;00m\n\u001b[1;32m---> 32\u001b[0m H_z, h \u001b[38;5;241m=\u001b[39m \u001b[43mlti_system_analysis\u001b[49m\u001b[43m(\u001b[49m\u001b[43mb\u001b[49m\u001b[43m,\u001b[49m\u001b[43m \u001b[49m\u001b[43ma\u001b[49m\u001b[43m)\u001b[49m\n\u001b[0;32m     34\u001b[0m \u001b[38;5;66;03m# Print the system function H(z)\u001b[39;00m\n\u001b[0;32m     35\u001b[0m \u001b[38;5;28mprint\u001b[39m(\u001b[38;5;124m\"\u001b[39m\u001b[38;5;124mSystem function H(z):\u001b[39m\u001b[38;5;124m\"\u001b[39m)\n",
      "Cell \u001b[1;32mIn[4], line 24\u001b[0m, in \u001b[0;36mlti_system_analysis\u001b[1;34m(b, a)\u001b[0m\n\u001b[0;32m     21\u001b[0m H_z \u001b[38;5;241m=\u001b[39m sympy\u001b[38;5;241m.\u001b[39mPoly(b, z) \u001b[38;5;241m/\u001b[39m sympy\u001b[38;5;241m.\u001b[39mPoly(a, z)\n\u001b[0;32m     23\u001b[0m \u001b[38;5;66;03m# Impulse response h[n]\u001b[39;00m\n\u001b[1;32m---> 24\u001b[0m h \u001b[38;5;241m=\u001b[39m \u001b[43msignal\u001b[49m\u001b[38;5;241m.\u001b[39mlfilter(b, a, np\u001b[38;5;241m.\u001b[39marray([\u001b[38;5;241m1\u001b[39m] \u001b[38;5;241m+\u001b[39m [\u001b[38;5;241m0\u001b[39m] \u001b[38;5;241m*\u001b[39m \u001b[38;5;241m100\u001b[39m))\n\u001b[0;32m     26\u001b[0m \u001b[38;5;28;01mreturn\u001b[39;00m H_z, h\n",
      "\u001b[1;31mNameError\u001b[0m: name 'signal' is not defined"
     ]
    }
   ],
   "source": [
    "import numpy as np\n",
    "import sympy\n",
    "import matplotlib.pyplot as plt\n",
    "\n",
    "def lti_system_analysis(b, a):\n",
    "    \"\"\"\n",
    "    Analyzes an LTI system given its difference equation coefficients.\n",
    "\n",
    "    Args:\n",
    "        b: Coefficients of the numerator polynomial.\n",
    "        a: Coefficients of the denominator polynomial.\n",
    "\n",
    "    Returns:\n",
    "        A tuple containing:\n",
    "            - The system function H(z) (as a symbolic expression).\n",
    "            - The impulse response h[n].\n",
    "    \"\"\"\n",
    "\n",
    "    # System function H(z)\n",
    "    z = sympy.Symbol('z')\n",
    "    H_z = sympy.Poly(b, z) / sympy.Poly(a, z)\n",
    "\n",
    "    # Impulse response h[n]\n",
    "    h = signal.lfilter(b, a, np.array([1] + [0] * 100))\n",
    "\n",
    "    return H_z, h\n",
    "\n",
    "# Example usage:\n",
    "b = [1, 1/3]  # Numerator coefficients\n",
    "a = [1, -3/4, 1/8]  # Denominator coefficients\n",
    "\n",
    "H_z, h = lti_system_analysis(b, a)\n",
    "\n",
    "# Print the system function H(z)\n",
    "print(\"System function H(z):\")\n",
    "print(H_z)\n",
    "\n",
    "# Plot the impulse response h[n]\n",
    "plt.stem(h)\n",
    "plt.xlabel('n')\n",
    "plt.ylabel('h[n]')\n",
    "plt.title('Impulse Response')\n",
    "plt.grid(True)\n",
    "plt.show()"
   ]
  },
  {
   "cell_type": "code",
   "execution_count": null,
   "id": "be888e6e-ee56-496b-a365-40b00a5e0013",
   "metadata": {},
   "outputs": [],
   "source": []
  }
 ],
 "metadata": {
  "kernelspec": {
   "display_name": "Python 3 (ipykernel)",
   "language": "python",
   "name": "python3"
  },
  "language_info": {
   "codemirror_mode": {
    "name": "ipython",
    "version": 3
   },
   "file_extension": ".py",
   "mimetype": "text/x-python",
   "name": "python",
   "nbconvert_exporter": "python",
   "pygments_lexer": "ipython3",
   "version": "3.11.5"
  }
 },
 "nbformat": 4,
 "nbformat_minor": 5
}
